{
 "cells": [
  {
   "cell_type": "markdown",
   "id": "broken-hepatitis",
   "metadata": {},
   "source": [
    "## Example of usage of the individual modules ##\n",
    "\n",
    "This jupyter notebook shows how to use the different modules contained in CABARET independently for different computations.\n",
    "\n",
    "First, we have to import all the modules needed"
   ]
  },
  {
   "cell_type": "code",
   "execution_count": 1,
   "id": "nearby-progressive",
   "metadata": {},
   "outputs": [],
   "source": [
    "import numpy as np\n",
    "import sys\n",
    "import time\n",
    "import os\n",
    "\n",
    "# To run locally and find the modules in /src\n",
    "cabaret_src_folder = '/Users/anabel/Documents/PhD/Code/pyCabaret/src' # Change to your folder path\n",
    "sys.path.insert(0, cabaret_src_folder)\n",
    "\n",
    "mutation_folder = \"/Users/anabel/Documents/PhD/Code/Mpp_test/Mutationpp/\" # Your folder\n",
    "my_distribution = \"macosx-10.15-x86_64-3.9\" # Your particular distribution\n",
    "sys.path.append(mutation_folder + \"_skbuild/\" + my_distribution +\"/cmake-install/interface/python/mutationpp\")\n",
    "\n",
    "import _mutationpp as mpp\n",
    "from reservoir import reservoir\n",
    "from massflow import massflow\n",
    "from shock import shock\n",
    "from total import total\n",
    "from heatflux import heatflux\n",
    "import rebuilding_setup as setup\n",
    "import reading_input as input_data"
   ]
  },
  {
   "cell_type": "code",
   "execution_count": 2,
   "id": "based-johnson",
   "metadata": {},
   "outputs": [],
   "source": [
    "# Free stream conditions\n",
    "T_1 = 3500.0\n",
    "p_1 = 5000.0\n",
    "M_1 = 2.0"
   ]
  },
  {
   "cell_type": "code",
   "execution_count": 3,
   "id": "preceding-market",
   "metadata": {},
   "outputs": [],
   "source": [
    "# Mutation++ mixture setup\n",
    "mix = setup.setup_mpp()"
   ]
  },
  {
   "cell_type": "markdown",
   "id": "moral-zimbabwe",
   "metadata": {},
   "source": [
    "## Reservoir ##"
   ]
  },
  {
   "cell_type": "markdown",
   "id": "practical-reducing",
   "metadata": {},
   "source": [
    "To compute the reservoir quantities, namely the pressure and temperature, we solve the following system of equations\n",
    "\n",
    "$h_{1}(T_{1},P_{1}) + \\dfrac{1}{2}v_{1}^{2} = h_{\\mathrm{0}}(T_{0},P_{0})$\n",
    "\n",
    "$s_{1}(T_{1},P_{1}) = s_{\\mathrm{0}}(T_{0},P_{0})$,\n",
    "\n",
    "where $h$ and $s$ are the mixture enthalpy and entropy, respectively.\n",
    "\n",
    "The equations are not solved on $T_{0}, P_{0}$ but on the proportionality variables $c_{1}, c_{2}$ such that $T_{0} = c_{1}\\times T_{1}$ and $P_{0} = c_{2}\\times P_{1}$. This simplifies the optimization algorithm by handling quantities of similar orders of magnitude.\n",
    "\n",
    "In the following \"options\" python dictionary, you have to specify the initial conditions for both $c_{1}$ in the \"temperature\" field, and $c_{2}$ in the \"pressure\" field."
   ]
  },
  {
   "cell_type": "code",
   "execution_count": 4,
   "id": "unique-tobago",
   "metadata": {},
   "outputs": [],
   "source": [
    "# Specify module options\n",
    "options = {\"pressure\": 10000.0, \n",
    "           \"temperature\": 100.0,\n",
    "           \"robust\": \"Yes\"}"
   ]
  },
  {
   "cell_type": "code",
   "execution_count": 5,
   "id": "greenhouse-sodium",
   "metadata": {},
   "outputs": [
    {
     "name": "stdout",
     "output_type": "stream",
     "text": [
      "T0 = 4867.49 K; p0 = 36521.79 Pa; v0 = 0.00 m/s\n",
      "Execution time = 0.0476  seconds = 0.0008  minutes\n"
     ]
    }
   ],
   "source": [
    "setup.mixture_states(mix)[\"reservoir\"].equilibrate(T_1,p_1)\n",
    "v_1 = M_1*setup.mixture_states(mix)[\"reservoir\"].equilibriumSoundSpeed()\n",
    "h_1 = setup.mixture_states(mix)[\"reservoir\"].mixtureHMass() + (0.5*v_1**2)\n",
    "s_1 = setup.mixture_states(mix)[\"reservoir\"].mixtureSMass()\n",
    "\n",
    "start_time = time.time()\n",
    "T0,p0,v0 = reservoir(T_1,p_1,h_1,s_1,1.0e-06,mix,\"reservoir\",options)\n",
    "end_time = time.time()\n",
    "\n",
    "exec_time = end_time - start_time\n",
    "\n",
    "print('T0 = '+ \"{:.2f}\".format(T0)+' K;', 'p0 = '+ \"{:.2f}\".format(p0)+' Pa;', 'v0 = '+ \"{:.2f}\".format(v0)+' m/s')\n",
    "print('Execution time = '+\"{:.4f}\".format(exec_time), ' seconds = '+\"{:.4f}\".format(exec_time/60), ' minutes')"
   ]
  },
  {
   "cell_type": "markdown",
   "id": "improved-acrobat",
   "metadata": {},
   "source": [
    "## Mass flow computation ##"
   ]
  },
  {
   "cell_type": "markdown",
   "id": "dying-certification",
   "metadata": {},
   "source": [
    "The mass flow is computed by using the quantities that define the throat of the nozzle. Any wind tunnel that expands to supersonic/hypersonic speeds will have a throat. This allows us to know a velocity of Mach = 1 is reached there, from which we can deduce the mass flow along the stagnation line of the nozzle. The equations solved are\n",
    "\n",
    "$h_{1}(T_{1},P_{1}) + \\dfrac{1}{2}v_{1}^{2} = h_{\\mathrm{throat}}(T_{\\mathrm{throat}},P_{\\mathrm{throat}}) + \\dfrac{1}{2}a_{\\mathrm{throat}}(T_{\\mathrm{throat}},P_{\\mathrm{throat}})^{2}$\n",
    "\n",
    "$s_{1}(T_{1},P_{1}) = s_{\\mathrm{throat}}(T_{\\mathrm{throat}},P_{\\mathrm{throat}})$,\n",
    "\n",
    "where $a_{\\mathrm{throat}}$ is the local equilibrium speed of sound. Once we solve for $T_{\\mathrm{throat}}$ and $P_{\\mathrm{throat}}$ we compute the mass flow as\n",
    "\n",
    "$\\dot{m} = \\rho_{\\mathrm{throat}}(T_{\\mathrm{throat}},P_{\\mathrm{throat}})\\cdot A_{\\mathrm{throat}}\\cdot a_{\\mathrm{throat}}(T_{\\mathrm{throat}},P_{\\mathrm{throat}})$,\n",
    "\n",
    "with $A_{\\mathrm{throat}}$ being the throat area.\n",
    "\n",
    "The variables used to solve the above equations are the same as for the reservoir problem."
   ]
  },
  {
   "cell_type": "code",
   "execution_count": null,
   "id": "canadian-paper",
   "metadata": {},
   "outputs": [],
   "source": [
    "# Specify module options\n",
    "options = {\"pressure\": 10.0, \n",
    "           \"temperature\": 2.0,\n",
    "           \"robust\": \"No\"}\n",
    "\n",
    "A_t = 9.621e-04"
   ]
  },
  {
   "cell_type": "code",
   "execution_count": null,
   "id": "persistent-hostel",
   "metadata": {},
   "outputs": [],
   "source": [
    "start_time = time.time()\n",
    "mfl = massflow(T_1,p_1,h_1,s_1,A_t,1.0e-06,mix,\"throat\",options)\n",
    "end_time = time.time()\n",
    "exec_time = end_time - start_time\n",
    "\n",
    "print('mass flow = ', str(mfl*1000.0)+' g/s')\n",
    "print('Execution time = '+\"{:.4f}\".format(exec_time), ' seconds = '+\"{:.4f}\".format(exec_time/60), ' minutes')"
   ]
  },
  {
   "cell_type": "markdown",
   "id": "senior-kuwait",
   "metadata": {},
   "source": [
    "## Shocking ##"
   ]
  },
  {
   "cell_type": "markdown",
   "id": "wooden-southwest",
   "metadata": {},
   "source": [
    "We solve the following system of equations known as the Rankine-Hugoniot relations\n",
    "\n",
    "$\\rho_{1}v_{1} = \\rho_{2}v_{2}$,\n",
    "\n",
    "$P_{1} + \\rho_{1}v_{1}^{2} = P_{2} + \\rho_{2}v_{2}^{2}$,\n",
    "\n",
    "$(\\rho_{1}E_{1} + P_{1})v_{1} = (\\rho_{2}E_{2} + P_{2})v_{2}$.\n",
    "\n",
    "The variable names are quite self-explanatory.\n",
    "\n",
    "In practice, we solve for the density ratio $\\rho_{1}/\\rho_{2}$, while updating the temperature to match the total energy and the corresponding pressure."
   ]
  },
  {
   "cell_type": "code",
   "execution_count": null,
   "id": "broke-organizer",
   "metadata": {},
   "outputs": [],
   "source": [
    "# Specify module options\n",
    "options = {\"ratio\": 0.2, \n",
    "           \"robust\": \"No\"}"
   ]
  },
  {
   "cell_type": "code",
   "execution_count": null,
   "id": "equipped-optimum",
   "metadata": {},
   "outputs": [],
   "source": [
    "preshock_state = [T_1,p_1,M_1]\n",
    "\n",
    "start_time = time.time()\n",
    "T2,p2,v2 = shock(preshock_state,mix,options)\n",
    "end_time = time.time()\n",
    "exec_time = end_time - start_time\n",
    "\n",
    "print('T2 = '+ \"{:.2f}\".format(T2)+' K;', 'p2 = '+ \"{:.2f}\".format(p2)+' Pa;', 'v2 = '+ \"{:.2f}\".format(v2)+' m/s')\n",
    "print('Execution time = '+\"{:.4f}\".format(exec_time), ' seconds = '+\"{:.4f}\".format(exec_time/60), ' minutes')"
   ]
  },
  {
   "cell_type": "markdown",
   "id": "pleased-negative",
   "metadata": {},
   "source": [
    "## Total quantities ##"
   ]
  },
  {
   "cell_type": "markdown",
   "id": "entitled-least",
   "metadata": {},
   "source": [
    "Computing the total or stagnation quantities of a given state (temperature, pressure and velocity) is equivalent to doing a reservoir computation. Isentropic relations to deccelerate the flow to stagnant conditions. We solve the same equations.\n",
    "\n",
    "Now, the variables we solve for are proportional to the state from which we want to compute the total quantities, in this case $T_{2}, P_{2}, v_{2}$. This is why we choose to initialize these variables with 1.0."
   ]
  },
  {
   "cell_type": "code",
   "execution_count": null,
   "id": "comparable-cancellation",
   "metadata": {},
   "outputs": [],
   "source": [
    "options = {\"pressure\": 1.0, \n",
    "           \"temperature\": 1.0,\n",
    "           \"robust\": \"No\"}"
   ]
  },
  {
   "cell_type": "code",
   "execution_count": null,
   "id": "vocal-mistress",
   "metadata": {},
   "outputs": [],
   "source": [
    "start_time = time.time()\n",
    "Tt2,pt2,vt2 = total(T2,p2,v2,1.0e-06,mix,\"total\",options)\n",
    "end_time = time.time()\n",
    "exec_time = end_time - start_time\n",
    "\n",
    "print('Tt2 = '+ \"{:.2f}\".format(Tt2)+' K;', 'pt2 = '+ \"{:.2f}\".format(pt2)+' Pa;', 'vt2 = '+ \"{:.2f}\".format(vt2)+' m/s')\n",
    "print('Execution time = '+\"{:.4f}\".format(exec_time), ' seconds = '+\"{:.4f}\".format(exec_time/60), ' minutes')"
   ]
  },
  {
   "cell_type": "markdown",
   "id": "champion-conversion",
   "metadata": {},
   "source": [
    "## Heat flux ##"
   ]
  },
  {
   "cell_type": "markdown",
   "id": "opposite-worse",
   "metadata": {},
   "source": [
    "We solve the Fay-Riddell equation for a fully catalytic wall in equilibrium. For a Lewis number of 1, the equation is\n",
    "\n",
    "$Q_{\\mathrm{w}} = 0.763\\cdot \\mathrm{Pr}^{-0.6}\\cdot(\\rho_{t2} \\cdot \\mu_{t2})^{0.4}\\cdot(\\rho_{\\mathrm{w}} \\cdot \\mu_{\\mathrm{w}})^{0.1}\\cdot \\sqrt(\\beta)\\cdot(h_{t2} -h_{\\mathrm{w}})$,\n",
    "\n",
    "where the subscript $\\mathrm{w}$ stands for the wall state. The dynamic viscosities $\\mu_{t2}$ and $\\mu_{\\mathrm{w}}$ are functions of the respective states, such as $\\mu_{t2}(T_{t2},P_{t2})$ and $\\mu_{\\mathrm{w}}(T_{\\mathrm{w}},P_{\\mathrm{w}})$ with $P_{\\mathrm{w}}$ taken as $P_{t2}$.\n",
    "\n",
    "The velocity gradient $\\beta$ is modeled through the Modified Newtonian Theory as $\\beta = \\dfrac{1}{R_{\\mathrm{eff}}}\\sqrt{\\dfrac{2\\cdot(P_{t2} - P_{1})}{\\rho_{t2}}}$."
   ]
  },
  {
   "cell_type": "code",
   "execution_count": null,
   "id": "amber-tourism",
   "metadata": {},
   "outputs": [],
   "source": [
    "pr = 0.713 # Prandtl number\n",
    "L = 1.0 # Lewis number\n",
    "reff = 0.025 # Effective radius\n",
    "T_w = 350.0 # Wall temperature\n",
    "\n",
    "mix.equilibrate(Tt2, pt2)\n",
    "ht2 = mix.mixtureHMass()"
   ]
  },
  {
   "cell_type": "code",
   "execution_count": null,
   "id": "precise-advocacy",
   "metadata": {},
   "outputs": [],
   "source": [
    "start_time = time.time()\n",
    "qw = heatflux(mix, pr, L, p_1, pt2, Tt2, ht2, reff, T_w)\n",
    "end_time = time.time()\n",
    "\n",
    "exec_time = end_time - start_time\n",
    "\n",
    "print('Qw = '+ \"{:.2f}\".format(qw)+' W/m2')\n",
    "print('Execution time = '+\"{:.4f}\".format(exec_time), ' seconds = '+\"{:.4f}\".format(exec_time/60), ' minutes')"
   ]
  }
 ],
 "metadata": {
  "kernelspec": {
   "display_name": "Python 3",
   "language": "python",
   "name": "python3"
  },
  "language_info": {
   "codemirror_mode": {
    "name": "ipython",
    "version": 3
   },
   "file_extension": ".py",
   "mimetype": "text/x-python",
   "name": "python",
   "nbconvert_exporter": "python",
   "pygments_lexer": "ipython3",
   "version": "3.9.1"
  }
 },
 "nbformat": 4,
 "nbformat_minor": 5
}
